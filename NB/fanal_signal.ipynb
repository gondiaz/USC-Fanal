{
 "cells": [
  {
   "cell_type": "markdown",
   "metadata": {},
   "source": [
    "# Fanal\n",
    "\n",
    "## A neutrino-less beta decay experiment \n",
    "\n",
    "## An open exercise\n",
    "\n",
    "##  Signal Estimation \n",
    "\n",
    "### USC, Master de Física, Física de Partícula II\n",
    "\n",
    "\n",
    "J. A. Hernando-Morata, with the help of J. Muñoz, J. M. Benlloch, B. Palmeiro\n",
    "\n",
    "February 2021\n"
   ]
  },
  {
   "cell_type": "code",
   "execution_count": 1,
   "metadata": {},
   "outputs": [],
   "source": [
    "%matplotlib inline\n",
    "\n",
    "%load_ext autoreload\n",
    "%autoreload 2"
   ]
  },
  {
   "cell_type": "markdown",
   "metadata": {},
   "source": [
    "#### Importing modules"
   ]
  },
  {
   "cell_type": "code",
   "execution_count": 2,
   "metadata": {},
   "outputs": [],
   "source": [
    "import numpy  as np\n",
    "import tables as tb\n",
    "import pandas as pd\n",
    "import matplotlib.pyplot as plt\n",
    "\n",
    "import scipy.constants as constants\n",
    "import scipy.stats     as stats\n",
    "import scipy.optimize  as optimize\n",
    "\n",
    "import warnings\n",
    "warnings.filterwarnings('ignore')"
   ]
  },
  {
   "cell_type": "code",
   "execution_count": 3,
   "metadata": {},
   "outputs": [],
   "source": [
    "import core.pltext as pltext\n",
    "import core.utils  as ut\n",
    "\n",
    "import ana.fanal  as fn\n",
    "\n",
    "pltext.style()"
   ]
  },
  {
   "cell_type": "markdown",
   "metadata": {},
   "source": [
    "## Indications\n",
    "\n",
    "### Objective:\n",
    "\n",
    "**Validate the method to compute the number of signal events**.\n",
    "\n",
    "### Tasks\n",
    "\n",
    "   * Open the data file (HDF) and access the simulated data (MC) of 214Bi, 208Tl and bb0nu. \n",
    "\n",
    "   * Generate experiments with a given number of signal events and a level of background compatible with the one estimated using the blind-data sample (in previous task).\n",
    "\n",
    "   * Ensure that the estimation of your signal is correct in different signal scenarios.\n",
    "\n",
    "   * Try to estimate the uncertainties on the number of signal events.\n",
    "\n",
    "   * Estimate the half-life for different number signal scenarios."
   ]
  },
  {
   "cell_type": "markdown",
   "metadata": {},
   "source": [
    "## Notes\n",
    "\n",
    "  * To valide a fit, usually we generate a large number of experiments with known true parameters; estimate the parameters, and study their distributions.\n",
    "  \n",
    "  * In the case of 'gaussian' limits, these distributions are gaussian, centered in the true value of the parameters and their standard deviations are the uncertentities of the parameters.\n"
   ]
  },
  {
   "cell_type": "markdown",
   "metadata": {},
   "source": [
    "## Access the data"
   ]
  },
  {
   "cell_type": "code",
   "execution_count": 4,
   "metadata": {},
   "outputs": [],
   "source": [
    "dirpath = '/Users/hernando/investigacion/NEXT/work/ICAROSNB/JAH/fanal/data/'"
   ]
  },
  {
   "cell_type": "code",
   "execution_count": 5,
   "metadata": {},
   "outputs": [],
   "source": [
    "filename = 'fanal_alpha.h5'\n",
    "\n",
    "mcbi = pd.read_hdf(dirpath + filename, key = 'mc/bi214')\n",
    "mctl = pd.read_hdf(dirpath + filename, key = 'mc/tl208')\n",
    "mcbb = pd.read_hdf(dirpath + filename, key = 'mc/bb0nu')"
   ]
  },
  {
   "cell_type": "code",
   "execution_count": 6,
   "metadata": {},
   "outputs": [],
   "source": [
    "samples  = ['bb0nu', 'Bi', 'Tl']\n",
    "ssamples = [r'$\\beta\\beta0\\nu$', r'$^{214}$Bi', r'$^{208}$Tl']\n",
    "mcs      = [mcbb, mcbi, mctl]"
   ]
  },
  {
   "cell_type": "code",
   "execution_count": 7,
   "metadata": {},
   "outputs": [],
   "source": [
    "erange     = (2.400, 2.650)\n",
    "eroi       = (2.440, 2.475)\n",
    "keys       = ['E', 'num_tracks', 'blob2_E', 'RoI']\n",
    "varnames   = ['E', 'num_tracks', 'blob2_E', 'E']\n",
    "varranges  = [erange, (1., 1.1), (0.4, np.inf), eroi]\n",
    "\n",
    "blindvar   = 'track0_E'\n",
    "blindrange = (2.420, 2.520)"
   ]
  },
  {
   "cell_type": "markdown",
   "metadata": {},
   "source": [
    "## Generate a MC experiment\n",
    "\n",
    "### Estimate the number of events"
   ]
  },
  {
   "cell_type": "code",
   "execution_count": 8,
   "metadata": {},
   "outputs": [
    {
     "name": "stdout",
     "output_type": "stream",
     "text": [
      "Total number of events : bb0nu \t  243.3, Bi \t 5772.0, Tl \t 8230.0,\n"
     ]
    }
   ],
   "source": [
    "def nevents(nbb_roi, nbi, ntl, eff_bb_roi = 0.41098):\n",
    "    nevts  = [nbb_roi/eff_bb_roi, nbi, ntl]\n",
    "    return nevts\n",
    "\n",
    "nbb_roi = 100\n",
    "nbi     = 5772.\n",
    "ntl     = 8230.\n",
    "nevts   = nevents(nbb_roi, nbi, ntl)\n",
    "print('Total number of events :', *['{:s} \\t {:6.1f},'.format(s, ni) for s, ni in zip(samples, nevts)])"
   ]
  },
  {
   "cell_type": "markdown",
   "metadata": {},
   "source": [
    "### Generate MC experiment"
   ]
  },
  {
   "cell_type": "code",
   "execution_count": 9,
   "metadata": {},
   "outputs": [],
   "source": [
    "mdat = fn.generate_mc_experiment(mcs, nevts)"
   ]
  },
  {
   "cell_type": "code",
   "execution_count": 10,
   "metadata": {
    "scrolled": false
   },
   "outputs": [],
   "source": [
    "#pltext.df_inspect(exp, ncolumns = 3)"
   ]
  },
  {
   "cell_type": "markdown",
   "metadata": {},
   "source": [
    "### Estimate the number of events"
   ]
  },
  {
   "cell_type": "markdown",
   "metadata": {},
   "source": [
    "\n",
    " The *ana_experiment* in the *fanal* module does the analysis:\n",
    " \n",
    "  1. Selects the data and the MC-samples. It uses fanal selection (E-range, 1-track, blob2 > 0.4 MeV).\n",
    "  \n",
    "  2. Creates the Composide PDF with the MC-selected samples for the energy.\n",
    "  \n",
    "  3. Fits the energy of selected data to the composite PDF.\n",
    "  \n",
    "  4. Returns the fit results, the energy values, the ExtComPDF object, and the efficiencies of the selection in MC \n",
    "\n"
   ]
  },
  {
   "cell_type": "code",
   "execution_count": 11,
   "metadata": {},
   "outputs": [
    {
     "name": "stdout",
     "output_type": "stream",
     "text": [
      "number estimated events : bb0nu \t 104.81, Bi \t  22.28, Tl \t  41.91,\n",
      "number expected  events : bb0nu \t 100.00, Bi \t  25.05, Tl \t  39.09,\n",
      "169.0002600783703 164.14298 169\n"
     ]
    },
    {
     "data": {
      "image/png": "[encoded data removed]",
      "text/plain": [
       "<Figure size 720x576 with 2 Axes>"
      ]
     },
     "metadata": {
      "needs_background": "light"
     },
     "output_type": "display_data"
    }
   ],
   "source": [
    "#  do the analysis\n",
    "res, ene, ell, effs = fn.ana_experiment(mdat, mcs, nevts)\n",
    "ns_est = res.x \n",
    "ns_exp = [ni * eff[0] for ni, eff in zip(nevts, effs)]\n",
    "names   = ['bb0nu', 'Bi', 'Tl']\n",
    "print('number estimated events :', *['{:s} \\t {:6.2f},'.format(s, ni) for s, ni in zip(samples, ns_est)])\n",
    "print('number expected  events :', *['{:s} \\t {:6.2f},'.format(s, ni) for s, ni in zip(samples, ns_exp)])\n",
    "fn.plot_fit_ell(ene, ns_est, ell.pdf)\n",
    "print(np.sum(ns_est), np.sum(ns_exp), len(ene))"
   ]
  },
  {
   "cell_type": "markdown",
   "metadata": {},
   "source": [
    "### Generate n-experiments in different signal scenarios.\n",
    "\n",
    "Generate n-experiments (1000) with different 0bbnu events, for example 100, 10, 2 events in the RoI. \n",
    "\n",
    "Be careful with the case of very few bb0nu events in the RoI.\n",
    "\n",
    "Get the distribution of the estimated number of events. \n",
    "\n",
    "Estimate the number of events uncertainties for each scenario"
   ]
  },
  {
   "cell_type": "markdown",
   "metadata": {},
   "source": [
    "## Estimate the half-time"
   ]
  },
  {
   "cell_type": "code",
   "execution_count": null,
   "metadata": {},
   "outputs": [],
   "source": []
  }
 ],
 "metadata": {
  "kernelspec": {
   "display_name": "Python 3",
   "language": "python",
   "name": "python3"
  },
  "language_info": {
   "codemirror_mode": {
    "name": "ipython",
    "version": 3
   },
   "file_extension": ".py",
   "mimetype": "text/x-python",
   "name": "python",
   "nbconvert_exporter": "python",
   "pygments_lexer": "ipython3",
   "version": "3.7.9"
  }
 },
 "nbformat": 4,
 "nbformat_minor": 2
}
