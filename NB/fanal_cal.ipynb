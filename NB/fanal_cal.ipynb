{
 "cells": [
  {
   "cell_type": "markdown",
   "metadata": {},
   "source": [
    "# Fanal\n",
    "\n",
    "## A neutrino-less beta decay experiment \n",
    "\n",
    "## An open exercise\n",
    "\n",
    "## Calibration\n",
    "\n",
    "\n",
    "### USC, Master de Física, Física de Partícula II\n",
    "\n",
    "\n",
    "J. A. Hernando-Morata, \n",
    "\n",
    "with the help of J. Muñoz, J. M. Benlloch, B. Palmeiro\n",
    "\n",
    "February 2021\n"
   ]
  },
  {
   "cell_type": "code",
   "execution_count": 1,
   "metadata": {},
   "outputs": [],
   "source": [
    "%matplotlib inline\n",
    "\n",
    "%load_ext autoreload\n",
    "%autoreload 2"
   ]
  },
  {
   "cell_type": "markdown",
   "metadata": {},
   "source": [
    "#### Importing modules"
   ]
  },
  {
   "cell_type": "code",
   "execution_count": 2,
   "metadata": {},
   "outputs": [],
   "source": [
    "import numpy  as np\n",
    "import tables as tb\n",
    "import pandas as pd\n",
    "import matplotlib.pyplot as plt\n",
    "\n",
    "import scipy.constants as constants\n",
    "\n",
    "import warnings\n",
    "warnings.filterwarnings('ignore')"
   ]
  },
  {
   "cell_type": "code",
   "execution_count": 3,
   "metadata": {},
   "outputs": [],
   "source": [
    "import core.pltext as pltext\n",
    "import core.hfit   as hfit\n",
    "import core.utils  as ut\n",
    "\n",
    "pltext.style()"
   ]
  },
  {
   "cell_type": "markdown",
   "metadata": {},
   "source": [
    "## Indications\n",
    "\n",
    "### Objective\n",
    "\n",
    "**Estimate the energy resolution** and **the energy scale of the detector**. For that, we will fit some peaks a 208Tl calibration sample to its know tabulated energy.\n",
    "\n",
    "### Tasks:\n",
    "\n",
    "   * Open the data file (HDF) and access the mock calibration data (cal) obtained with a 208Tl source.\n",
    "\n",
    "   * Fit the energy of the main track (track0) to the main photo-peak (2.615 MeV) and double-scape peak.\n",
    "   \n",
    "   * Fit the energy of the secon track (track1) to other Tl gamma lines\n",
    "   \n",
    "   * Calibrate the measured energy of the peacks with respect the tabulated energy.\n",
    "\n",
    "### Notes:\n",
    "\n",
    "   * The main photo-peak is at 2.615 MeV. This peak can suffer Compton, Bremsstrahlung and pear production. A double-scape peak is expected at 2.615 - 2 * 511 keV. \n",
    "  \n",
    "   * There are other minor 208Tl gamma lines at 860, 583 and 511 keV. \n",
    "  \n",
    "   * Sometimes the photo-peak is produced with an associated 126Xe X-ray of 30 keV."
   ]
  },
  {
   "cell_type": "markdown",
   "metadata": {},
   "source": [
    "## Access the data"
   ]
  },
  {
   "cell_type": "code",
   "execution_count": 4,
   "metadata": {},
   "outputs": [],
   "source": [
    "dirpath = '/Users/hernando/investigacion/NEXT/work/ICAROSNB/JAH/fanal/data/'"
   ]
  },
  {
   "cell_type": "code",
   "execution_count": 5,
   "metadata": {},
   "outputs": [],
   "source": [
    "filename = 'fanal_alpha.h5'\n",
    "\n",
    "calib = pd.read_hdf(dirpath + filename, key = 'data/tl208')"
   ]
  },
  {
   "cell_type": "markdown",
   "metadata": {},
   "source": [
    "### list of variables\n",
    "\n"
   ]
  },
  {
   "cell_type": "code",
   "execution_count": 6,
   "metadata": {},
   "outputs": [
    {
     "data": {
      "text/html": [
       "<div>\n",
       "<style scoped>\n",
       "    .dataframe tbody tr th:only-of-type {\n",
       "        vertical-align: middle;\n",
       "    }\n",
       "\n",
       "    .dataframe tbody tr th {\n",
       "        vertical-align: top;\n",
       "    }\n",
       "\n",
       "    .dataframe thead th {\n",
       "        text-align: right;\n",
       "    }\n",
       "</style>\n",
       "<table border=\"1\" class=\"dataframe\">\n",
       "  <thead>\n",
       "    <tr style=\"text-align: right;\">\n",
       "      <th></th>\n",
       "      <th>E</th>\n",
       "      <th>num_tracks</th>\n",
       "      <th>num_voxels</th>\n",
       "      <th>track0_E</th>\n",
       "      <th>track0_voxels</th>\n",
       "      <th>track0_length</th>\n",
       "      <th>blob1_E</th>\n",
       "      <th>blob2_E</th>\n",
       "      <th>track1_E</th>\n",
       "      <th>track1_voxels</th>\n",
       "      <th>track1_length</th>\n",
       "      <th>voxels_minZ</th>\n",
       "      <th>voxels_maxZ</th>\n",
       "      <th>voxels_maxRad</th>\n",
       "    </tr>\n",
       "  </thead>\n",
       "  <tbody>\n",
       "    <tr>\n",
       "      <th>914160</th>\n",
       "      <td>2.466622</td>\n",
       "      <td>NaN</td>\n",
       "      <td>21</td>\n",
       "      <td>NaN</td>\n",
       "      <td>NaN</td>\n",
       "      <td>NaN</td>\n",
       "      <td>NaN</td>\n",
       "      <td>NaN</td>\n",
       "      <td>NaN</td>\n",
       "      <td>NaN</td>\n",
       "      <td>NaN</td>\n",
       "      <td>378.826092</td>\n",
       "      <td>1246.698750</td>\n",
       "      <td>528.425209</td>\n",
       "    </tr>\n",
       "    <tr>\n",
       "      <th>356979</th>\n",
       "      <td>2.964067</td>\n",
       "      <td>NaN</td>\n",
       "      <td>20</td>\n",
       "      <td>NaN</td>\n",
       "      <td>NaN</td>\n",
       "      <td>NaN</td>\n",
       "      <td>NaN</td>\n",
       "      <td>NaN</td>\n",
       "      <td>NaN</td>\n",
       "      <td>NaN</td>\n",
       "      <td>NaN</td>\n",
       "      <td>20.470308</td>\n",
       "      <td>640.793051</td>\n",
       "      <td>527.537687</td>\n",
       "    </tr>\n",
       "    <tr>\n",
       "      <th>993955</th>\n",
       "      <td>2.473121</td>\n",
       "      <td>4.0</td>\n",
       "      <td>24</td>\n",
       "      <td>2.142168</td>\n",
       "      <td>20.0</td>\n",
       "      <td>125.772423</td>\n",
       "      <td>NaN</td>\n",
       "      <td>NaN</td>\n",
       "      <td>0.168682</td>\n",
       "      <td>2.0</td>\n",
       "      <td>9.885189</td>\n",
       "      <td>561.473142</td>\n",
       "      <td>1254.679629</td>\n",
       "      <td>442.778202</td>\n",
       "    </tr>\n",
       "    <tr>\n",
       "      <th>922005</th>\n",
       "      <td>2.639489</td>\n",
       "      <td>4.0</td>\n",
       "      <td>33</td>\n",
       "      <td>2.306041</td>\n",
       "      <td>28.0</td>\n",
       "      <td>68.062635</td>\n",
       "      <td>NaN</td>\n",
       "      <td>NaN</td>\n",
       "      <td>0.167528</td>\n",
       "      <td>3.0</td>\n",
       "      <td>17.108280</td>\n",
       "      <td>69.206628</td>\n",
       "      <td>1160.906745</td>\n",
       "      <td>506.193643</td>\n",
       "    </tr>\n",
       "    <tr>\n",
       "      <th>850252</th>\n",
       "      <td>2.420345</td>\n",
       "      <td>4.0</td>\n",
       "      <td>30</td>\n",
       "      <td>1.891394</td>\n",
       "      <td>26.0</td>\n",
       "      <td>110.823715</td>\n",
       "      <td>NaN</td>\n",
       "      <td>NaN</td>\n",
       "      <td>0.223267</td>\n",
       "      <td>1.0</td>\n",
       "      <td>0.000000</td>\n",
       "      <td>723.603419</td>\n",
       "      <td>1184.793310</td>\n",
       "      <td>441.942793</td>\n",
       "    </tr>\n",
       "    <tr>\n",
       "      <th>...</th>\n",
       "      <td>...</td>\n",
       "      <td>...</td>\n",
       "      <td>...</td>\n",
       "      <td>...</td>\n",
       "      <td>...</td>\n",
       "      <td>...</td>\n",
       "      <td>...</td>\n",
       "      <td>...</td>\n",
       "      <td>...</td>\n",
       "      <td>...</td>\n",
       "      <td>...</td>\n",
       "      <td>...</td>\n",
       "      <td>...</td>\n",
       "      <td>...</td>\n",
       "    </tr>\n",
       "    <tr>\n",
       "      <th>990369</th>\n",
       "      <td>3.373822</td>\n",
       "      <td>7.0</td>\n",
       "      <td>37</td>\n",
       "      <td>2.011914</td>\n",
       "      <td>25.0</td>\n",
       "      <td>152.784223</td>\n",
       "      <td>NaN</td>\n",
       "      <td>NaN</td>\n",
       "      <td>0.553392</td>\n",
       "      <td>3.0</td>\n",
       "      <td>14.044773</td>\n",
       "      <td>35.362971</td>\n",
       "      <td>1182.737125</td>\n",
       "      <td>496.467080</td>\n",
       "    </tr>\n",
       "    <tr>\n",
       "      <th>343989</th>\n",
       "      <td>2.465966</td>\n",
       "      <td>NaN</td>\n",
       "      <td>20</td>\n",
       "      <td>NaN</td>\n",
       "      <td>NaN</td>\n",
       "      <td>NaN</td>\n",
       "      <td>NaN</td>\n",
       "      <td>NaN</td>\n",
       "      <td>NaN</td>\n",
       "      <td>NaN</td>\n",
       "      <td>NaN</td>\n",
       "      <td>573.924914</td>\n",
       "      <td>846.756726</td>\n",
       "      <td>524.951151</td>\n",
       "    </tr>\n",
       "    <tr>\n",
       "      <th>307619</th>\n",
       "      <td>2.863028</td>\n",
       "      <td>3.0</td>\n",
       "      <td>28</td>\n",
       "      <td>2.365999</td>\n",
       "      <td>25.0</td>\n",
       "      <td>167.628381</td>\n",
       "      <td>NaN</td>\n",
       "      <td>NaN</td>\n",
       "      <td>0.252716</td>\n",
       "      <td>2.0</td>\n",
       "      <td>9.931894</td>\n",
       "      <td>114.192663</td>\n",
       "      <td>348.886874</td>\n",
       "      <td>504.285121</td>\n",
       "    </tr>\n",
       "    <tr>\n",
       "      <th>1057095</th>\n",
       "      <td>2.608906</td>\n",
       "      <td>3.0</td>\n",
       "      <td>29</td>\n",
       "      <td>2.262927</td>\n",
       "      <td>24.0</td>\n",
       "      <td>91.367538</td>\n",
       "      <td>NaN</td>\n",
       "      <td>NaN</td>\n",
       "      <td>0.189761</td>\n",
       "      <td>4.0</td>\n",
       "      <td>13.651353</td>\n",
       "      <td>691.527694</td>\n",
       "      <td>805.830522</td>\n",
       "      <td>262.018866</td>\n",
       "    </tr>\n",
       "    <tr>\n",
       "      <th>748664</th>\n",
       "      <td>2.702353</td>\n",
       "      <td>NaN</td>\n",
       "      <td>30</td>\n",
       "      <td>NaN</td>\n",
       "      <td>NaN</td>\n",
       "      <td>NaN</td>\n",
       "      <td>NaN</td>\n",
       "      <td>NaN</td>\n",
       "      <td>NaN</td>\n",
       "      <td>NaN</td>\n",
       "      <td>NaN</td>\n",
       "      <td>325.069010</td>\n",
       "      <td>777.346151</td>\n",
       "      <td>515.869887</td>\n",
       "    </tr>\n",
       "  </tbody>\n",
       "</table>\n",
       "<p>50000 rows × 14 columns</p>\n",
       "</div>"
      ],
      "text/plain": [
       "                E  num_tracks  num_voxels  track0_E  track0_voxels  \\\n",
       "914160   2.466622         NaN          21       NaN            NaN   \n",
       "356979   2.964067         NaN          20       NaN            NaN   \n",
       "993955   2.473121         4.0          24  2.142168           20.0   \n",
       "922005   2.639489         4.0          33  2.306041           28.0   \n",
       "850252   2.420345         4.0          30  1.891394           26.0   \n",
       "...           ...         ...         ...       ...            ...   \n",
       "990369   3.373822         7.0          37  2.011914           25.0   \n",
       "343989   2.465966         NaN          20       NaN            NaN   \n",
       "307619   2.863028         3.0          28  2.365999           25.0   \n",
       "1057095  2.608906         3.0          29  2.262927           24.0   \n",
       "748664   2.702353         NaN          30       NaN            NaN   \n",
       "\n",
       "         track0_length  blob1_E  blob2_E  track1_E  track1_voxels  \\\n",
       "914160             NaN      NaN      NaN       NaN            NaN   \n",
       "356979             NaN      NaN      NaN       NaN            NaN   \n",
       "993955      125.772423      NaN      NaN  0.168682            2.0   \n",
       "922005       68.062635      NaN      NaN  0.167528            3.0   \n",
       "850252      110.823715      NaN      NaN  0.223267            1.0   \n",
       "...                ...      ...      ...       ...            ...   \n",
       "990369      152.784223      NaN      NaN  0.553392            3.0   \n",
       "343989             NaN      NaN      NaN       NaN            NaN   \n",
       "307619      167.628381      NaN      NaN  0.252716            2.0   \n",
       "1057095      91.367538      NaN      NaN  0.189761            4.0   \n",
       "748664             NaN      NaN      NaN       NaN            NaN   \n",
       "\n",
       "         track1_length  voxels_minZ  voxels_maxZ  voxels_maxRad  \n",
       "914160             NaN   378.826092  1246.698750     528.425209  \n",
       "356979             NaN    20.470308   640.793051     527.537687  \n",
       "993955        9.885189   561.473142  1254.679629     442.778202  \n",
       "922005       17.108280    69.206628  1160.906745     506.193643  \n",
       "850252        0.000000   723.603419  1184.793310     441.942793  \n",
       "...                ...          ...          ...            ...  \n",
       "990369       14.044773    35.362971  1182.737125     496.467080  \n",
       "343989             NaN   573.924914   846.756726     524.951151  \n",
       "307619        9.931894   114.192663   348.886874     504.285121  \n",
       "1057095      13.651353   691.527694   805.830522     262.018866  \n",
       "748664             NaN   325.069010   777.346151     515.869887  \n",
       "\n",
       "[50000 rows x 14 columns]"
      ]
     },
     "execution_count": 6,
     "metadata": {},
     "output_type": "execute_result"
    }
   ],
   "source": [
    "calib"
   ]
  },
  {
   "cell_type": "markdown",
   "metadata": {},
   "source": [
    "## Histogram the variables\n",
    "\n",
    "We are drawing the variables only in the relevant range (2.6, 2.8 MeV)"
   ]
  },
  {
   "cell_type": "code",
   "execution_count": 7,
   "metadata": {},
   "outputs": [],
   "source": [
    "#pltext.df_inspect(calib, ncolumns = 3)"
   ]
  },
  {
   "cell_type": "markdown",
   "metadata": {},
   "source": [
    "## Energy calibration, identifying the peaks"
   ]
  },
  {
   "cell_type": "code",
   "execution_count": 8,
   "metadata": {},
   "outputs": [],
   "source": [
    "# utitility function\n",
    "def efit(enes, bins, erange, guess = None):\n",
    "    guess  = (len(enes), np.mean(enes), 20., 10., 0.) if guess is None else guess\n",
    "    sel    = ut.in_range(enes, erange)\n",
    "    pars, cpars = pltext.hfit(enes[sel], bins, fun = 'gausline', guess = guess, range = erange);\n",
    "    return pars, cpars"
   ]
  },
  {
   "cell_type": "markdown",
   "metadata": {},
   "source": [
    "### Photo-peak and double-escape\n",
    "\n",
    "Study the energy of the track-0.\n",
    "\n",
    "Fit the photo-peak and the double-escape peak"
   ]
  },
  {
   "cell_type": "code",
   "execution_count": 9,
   "metadata": {},
   "outputs": [
    {
     "data": {
      "image/png": "[encoded data removed]",
      "text/plain": [
       "<Figure size 864x720 with 3 Axes>"
      ]
     },
     "metadata": {
      "needs_background": "light"
     },
     "output_type": "display_data"
    }
   ],
   "source": [
    "enes   = 1e3 * ut.remove_nan(calib.track0_E.values) # energy in keV and remove NaN\n",
    "\n",
    "calpars = []\n",
    "\n",
    "subplot = pltext.canvas(4)\n",
    "\n",
    "subplot(1)\n",
    "pltext.hist(calib.track0_E, 100, range = (1., 2.7));\n",
    "\n",
    "subplot(2)\n",
    "erange = (2600, 2650) \n",
    "guess  = (1e3, 2615, 20., 20., 0.)\n",
    "bins   = np.linspace(2550, 2650, 100) \n",
    "pars, cpars = efit(enes, bins, erange, guess);\n",
    "calpars.append( (pars, cpars))\n",
    "erange = (2550-50, 2650 - 50) \n",
    "guess  = (1e2, 2615 - 50, 20., 20., 0.)\n",
    "pars, cpars  = efit(enes, bins, erange, guess);\n",
    "\n",
    "\n",
    "subplot(3)\n",
    "erange = (1550, 1650) \n",
    "bins   = np.linspace(*erange, 100) \n",
    "guess  = (1e3, 1560, 20., 20., 0.)\n",
    "pars, cpars = efit(enes, bins, erange, guess)\n",
    "calpars.append( (pars, cpars))"
   ]
  },
  {
   "cell_type": "markdown",
   "metadata": {},
   "source": [
    "## Other Tl peaks\n",
    "\n",
    "Study the energy of track-1. \n",
    "\n",
    "Identify the peaks.\n",
    "\n",
    "Fit then to a gaussian."
   ]
  },
  {
   "cell_type": "code",
   "execution_count": 10,
   "metadata": {},
   "outputs": [
    {
     "data": {
      "image/png": "[encoded data removed]",
      "text/plain": [
       "<Figure size 864x720 with 2 Axes>"
      ]
     },
     "metadata": {
      "needs_background": "light"
     },
     "output_type": "display_data"
    }
   ],
   "source": [
    "enes   = 1e3 * ut.remove_nan(calib.track1_E.values) # energy in keV and remove NaN\n",
    "\n",
    "subplot = pltext.canvas(4)\n",
    "\n",
    "subplot(1)\n",
    "pltext.hist(enes, 100, range = (0., 1500.));\n",
    "\n",
    "\n",
    "subplot(3)\n",
    "xrange  = (490., 600.) \n",
    "pltext.hist(enes, 100, range = xrange);\n"
   ]
  },
  {
   "cell_type": "markdown",
   "metadata": {},
   "source": [
    "## Energy Scale calibration\n",
    "\n",
    "Relate the measured peaks positions to the tabulated one. \n",
    "\n",
    "Fit to a line.\n",
    "\n",
    "If there are deviation respect unity use this line to calibrate your detector.\n"
   ]
  },
  {
   "cell_type": "markdown",
   "metadata": {},
   "source": [
    "### Additional notes\n",
    "\n",
    "These are the decay diagrams of 214Bi and 208Tl. \n",
    "\n",
    "Several lines can be observed in the total energy and track-0 and track-1 energies. \n",
    "\n",
    "Notice that the 1.615 MeV gamma can produrce electron-positron pairs and a double-scape peak when the photons produced by the positron capture scape the detector, the double-scape peak has an energy of $1.615 - 2 \\; 0.511$ MeV\n",
    "\n",
    "\n",
    "<img src=\"img/214-Bi-and-208-Tl-decay-diagrams.png\" width=\"800\" height=\"400\">"
   ]
  },
  {
   "cell_type": "code",
   "execution_count": null,
   "metadata": {},
   "outputs": [],
   "source": []
  }
 ],
 "metadata": {
  "kernelspec": {
   "display_name": "Python 3",
   "language": "python",
   "name": "python3"
  },
  "language_info": {
   "codemirror_mode": {
    "name": "ipython",
    "version": 3
   },
   "file_extension": ".py",
   "mimetype": "text/x-python",
   "name": "python",
   "nbconvert_exporter": "python",
   "pygments_lexer": "ipython3",
   "version": "3.7.9"
  }
 },
 "nbformat": 4,
 "nbformat_minor": 2
}
